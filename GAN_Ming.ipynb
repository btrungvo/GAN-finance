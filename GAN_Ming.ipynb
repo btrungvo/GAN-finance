{
  "nbformat": 4,
  "nbformat_minor": 0,
  "metadata": {
    "colab": {
      "provenance": [],
      "gpuType": "T4",
      "include_colab_link": true
    },
    "kernelspec": {
      "name": "python3",
      "display_name": "Python 3"
    },
    "language_info": {
      "name": "python"
    },
    "accelerator": "GPU"
  },
  "cells": [
    {
      "cell_type": "markdown",
      "metadata": {
        "id": "view-in-github",
        "colab_type": "text"
      },
      "source": [
        "<a href=\"https://colab.research.google.com/github/btrungvo/GAN-finance/blob/main/GAN_Ming.ipynb\" target=\"_parent\"><img src=\"https://colab.research.google.com/assets/colab-badge.svg\" alt=\"Open In Colab\"/></a>"
      ]
    },
    {
      "cell_type": "code",
      "execution_count": null,
      "metadata": {
        "id": "5syFnF5OcPCs"
      },
      "outputs": [],
      "source": [
        "import torch\n",
        "import torch.nn as nn\n",
        "from torch.nn import TransformerEncoder, TransformerEncoderLayer\n",
        "import torch.optim as optim\n",
        "from torch.utils.data import DataLoader, TensorDataset\n",
        "torch.manual_seed(0)\n",
        "device = torch.device(\"cuda:0\" if torch.cuda.is_available() else \"cpu\")\n",
        "import yfinance as yf\n",
        "from sklearn import preprocessing\n",
        "import numpy as np\n",
        "from datetime import date\n",
        "import matplotlib.pyplot as plt\n",
        "from typing import Tuple\n",
        "import torch.nn.functional as F\n",
        "\n",
        "\n"
      ]
    },
    {
      "cell_type": "code",
      "source": [
        "print(device)"
      ],
      "metadata": {
        "colab": {
          "base_uri": "https://localhost:8080/"
        },
        "id": "CHI9KAj1_BlC",
        "outputId": "ac31d23c-d8ca-4147-be2b-2647d511265a"
      },
      "execution_count": null,
      "outputs": [
        {
          "output_type": "stream",
          "name": "stdout",
          "text": [
            "cuda:0\n"
          ]
        }
      ]
    },
    {
      "cell_type": "code",
      "source": [
        "def cyclical_encodings(dates: np.ndarray) -> np.ndarray:\n",
        "    \"\"\" Creates cyclical encodings of dates in a year down to hourly diff \"\"\"\n",
        "    start = [date(d.year, d.month, d.day) for d in dates]\n",
        "    delta = np.array([(s-start[0]).days for s in start])\n",
        "    hours = np.array(dates.hour / 24)\n",
        "    position = np.array([2 * np.pi * (d+h) / (delta[-1]+1) for d, h in zip(delta, hours)])\n",
        "    return np.array([np.sin(position), np.cos(position)])"
      ],
      "metadata": {
        "id": "V6zFCpGSS7gF"
      },
      "execution_count": null,
      "outputs": []
    },
    {
      "cell_type": "code",
      "source": [
        "def fin_time_series(ticker='AAPL', period='2y', interval='1h', cyclical_encoding=False) -> np.ndarray:\n",
        "    \"\"\" Returns normalized prices with corresponding cyclical encodings \"\"\"\n",
        "    close_prices = yf.Ticker(ticker).history(period=period, interval=interval)['Close']\n",
        "    output = preprocessing.normalize([close_prices])\n",
        "    if cyclical_encoding:\n",
        "        encodings = cyclical_encodings(close_prices.index)\n",
        "        output = np.append(output, encodings, axis=0)\n",
        "    output = np.array([*output]).T\n",
        "    return output"
      ],
      "metadata": {
        "id": "H6PdX77BUMdY"
      },
      "execution_count": null,
      "outputs": []
    },
    {
      "cell_type": "code",
      "source": [
        "# tickers = ['AAL', 'AAPL', 'ABNB', 'ABT', 'ACN', 'ADBE', 'AMD', \\\n",
        "#     'AMZN', 'AXP', 'BA', 'BAC', 'BKNG', 'BLK', 'BMY', 'BP', 'BTI', \\\n",
        "#     'BUD', 'C', 'CAT', 'CMCSA', 'CMG', 'COP', 'COST', 'CRM', \\\n",
        "#     'CSCO', 'CVS', 'CVX', 'DAL', 'DE', 'DELL', 'DIS', 'F', 'FDX', \\\n",
        "#     'GE', 'GILD', 'GM', 'GOOGL', 'GS', 'HD', 'HMC', 'HON', 'HPQ', \\\n",
        "#     'HSBC', 'HYMTF', 'IBM', 'INFY', 'INTC', 'JNJ', 'JPM', 'KO', \\\n",
        "#     'LCID', 'LLY', 'LMT', 'LOW', 'LUV', 'MA', 'MCD', 'MDLZ', \\\n",
        "#     'META', 'MS', 'MSFT', 'MU', 'NIO', 'NKE', 'NVDA', 'ORCL', \\\n",
        "#     'PEP', 'PFE', 'PG', 'PLTR', 'PSNY', 'PYPL', 'QCOM', 'RACE', \\\n",
        "#     'RIVN', 'RTX', 'RY', 'RYAAY', 'SBUX', 'SCHW', 'SHEL', 'SHOP', \\\n",
        "#     'SNY', 'T', 'TGT', 'TM', 'TSLA', 'TSM', 'TXN', 'UAL', 'UBER', \\\n",
        "#     'UBS', 'UL', 'UNH', 'V', 'VZ', 'WFC', 'WM', 'WMT', 'XOM']\n",
        "tickers=['UL']\n",
        "train_data = np.array([fin_time_series(ticker=t, period='1y', interval='1d', cyclical_encoding=False) for t in tickers])\n"
      ],
      "metadata": {
        "id": "5B-quXwVS0ZA"
      },
      "execution_count": null,
      "outputs": []
    },
    {
      "cell_type": "code",
      "source": [
        "num_noisy_data = 100"
      ],
      "metadata": {
        "id": "1luro7TfKm_e"
      },
      "execution_count": null,
      "outputs": []
    },
    {
      "cell_type": "code",
      "source": [
        "def add_noise(data, noise_level=0.01):\n",
        "    noise = np.random.randn(*data.shape) * noise_level\n",
        "    return data + noise\n",
        "\n",
        "noisy_data = np.vstack([add_noise(train_data, noise_level=0.01) for _ in range(num_noisy_data)])"
      ],
      "metadata": {
        "id": "UcZD_vZdKcUa"
      },
      "execution_count": null,
      "outputs": []
    },
    {
      "cell_type": "code",
      "source": [
        "# train_dataset = TensorDataset(torch.tensor(train_data))\n",
        "train_dataset = TensorDataset(torch.tensor(noisy_data))"
      ],
      "metadata": {
        "id": "xH4QGRD6KZo6"
      },
      "execution_count": null,
      "outputs": []
    },
    {
      "cell_type": "markdown",
      "source": [
        "# Generator using transformer\n"
      ],
      "metadata": {
        "id": "7je6iHopwNIe"
      }
    },
    {
      "cell_type": "code",
      "source": [
        "class Generator(nn.Module):\n",
        "    def __init__(self, input_dim, output_dim, hidden_dim, num_layers, num_heads, dropout_rate=0.2, device='cpu'):\n",
        "        super(Generator, self).__init__()\n",
        "        self.device = torch.device(device)\n",
        "        self.embedding = nn.Linear(input_dim, hidden_dim).to(self.device)\n",
        "        # Initialize weights of the embedding layer with Xavier uniform\n",
        "        nn.init.xavier_uniform_(self.embedding.weight)\n",
        "        # Add BatchNorm layer after embedding\n",
        "        self.batch_norm1 = nn.BatchNorm1d(hidden_dim).to(self.device)\n",
        "\n",
        "        self.transformer_encoder = TransformerEncoder(\n",
        "            TransformerEncoderLayer(hidden_dim, num_heads, batch_first=True).to(self.device),\n",
        "            num_layers\n",
        "        ).to(self.device)\n",
        "        self.layer_norm = nn.LayerNorm(hidden_dim).to(self.device)\n",
        "        self.fc = nn.Linear(hidden_dim, output_dim).to(self.device)\n",
        "\n",
        "        # Optionally, add BatchNorm layer after the transformer encoder\n",
        "        self.batch_norm2 = nn.BatchNorm1d(output_dim).to(self.device)\n",
        "        self.do = nn.Dropout(p=dropout_rate).to(self.device)\n",
        "\n",
        "    def forward(self, x):\n",
        "        x = x.to(self.device)  # Ensure input tensor is on the right device\n",
        "        x = self.embedding(x)\n",
        "\n",
        "        x = self.batch_norm1(x.transpose(1, 2)).transpose(1, 2)  # Apply BatchNorm\n",
        "\n",
        "        x = F.leaky_relu(x)\n",
        "        x = self.do(x)\n",
        "        x = self.transformer_encoder(x)\n",
        "        x = self.layer_norm(x)\n",
        "        x = self.do(x)\n",
        "        x = self.fc(x)\n",
        "\n",
        "        x = self.batch_norm2(x.transpose(1, 2)).transpose(1, 2)  # Apply BatchNorm\n",
        "\n",
        "        return x"
      ],
      "metadata": {
        "id": "2CL0UpQGWeTH"
      },
      "execution_count": null,
      "outputs": []
    },
    {
      "cell_type": "code",
      "source": [
        "class ModifiedGenerator(nn.Module):\n",
        "    def __init__(self, input_dim, output_dim, hidden_dim, num_layers, num_heads, dropout_rate=0.2, device='cpu'):\n",
        "        super(ModifiedGenerator, self).__init__()\n",
        "        self.device = torch.device(device)\n",
        "        self.embedding = nn.Linear(input_dim, hidden_dim).to(self.device)\n",
        "        nn.init.xavier_uniform_(self.embedding.weight)\n",
        "\n",
        "        # Add BatchNorm layer after embedding\n",
        "        self.batch_norm1 = nn.BatchNorm1d(hidden_dim).to(self.device)\n",
        "\n",
        "        self.conv1 = nn.Conv1d(in_channels=hidden_dim, out_channels=hidden_dim, kernel_size=3, padding=1).to(self.device)\n",
        "        # Increased out_channels for conv2 to hidden_dim * 2\n",
        "        self.conv2 = nn.Conv1d(in_channels=hidden_dim, out_channels=hidden_dim * 2, kernel_size=3, padding=1).to(self.device)\n",
        "\n",
        "        # Adjusted BatchNorm for conv2's output\n",
        "        self.batch_norm2 = nn.BatchNorm1d(hidden_dim * 2).to(self.device)\n",
        "\n",
        "        self.transformer_encoder = TransformerEncoder(\n",
        "            TransformerEncoderLayer(hidden_dim * 2, num_heads, batch_first=True).to(self.device),\n",
        "            num_layers\n",
        "        ).to(self.device)\n",
        "        self.layer_norm = nn.LayerNorm(hidden_dim * 2).to(self.device)\n",
        "\n",
        "        self.fc1 = nn.Linear(hidden_dim * 2, hidden_dim).to(self.device)\n",
        "        self.fc2 = nn.Linear(hidden_dim, output_dim).to(self.device)\n",
        "        self.do = nn.Dropout(p=dropout_rate).to(self.device)\n",
        "\n",
        "    def forward(self, x):\n",
        "        x = x.to(self.device)\n",
        "        x = self.embedding(x)\n",
        "        x = self.batch_norm1(x.transpose(1, 2)).transpose(1, 2)\n",
        "\n",
        "        x = x.transpose(1, 2)  # Adjust dimensions for Conv1D\n",
        "        x = F.leaky_relu(self.conv1(x))\n",
        "        x = F.leaky_relu(self.conv2(x))\n",
        "        x = self.batch_norm2(x)  # Now correctly configured for the output of conv2\n",
        "\n",
        "        x = x.transpose(1, 2)  # Adjust dimensions back for transformer encoder\n",
        "        x = self.do(x)\n",
        "        x = self.transformer_encoder(x)\n",
        "        x = self.layer_norm(x)\n",
        "\n",
        "        x = self.do(x)\n",
        "        x = self.fc1(x)  # Reduce channel size back to hidden_dim\n",
        "        x = self.fc2(x)  # Final output layer\n",
        "\n",
        "        return x\n"
      ],
      "metadata": {
        "id": "eZwxBxzXbAdY"
      },
      "execution_count": null,
      "outputs": []
    },
    {
      "cell_type": "markdown",
      "source": [
        "# Discriminator using transformer"
      ],
      "metadata": {
        "id": "qOKpYB2BFj0W"
      }
    },
    {
      "cell_type": "code",
      "source": [
        "class Discriminator(nn.Module):\n",
        "    def __init__(self, input_dim, hidden_dim, num_layers, num_heads, dropout_rate=0.2, device='cpu'):\n",
        "        super(Discriminator, self).__init__()\n",
        "        self.device = torch.device(device)\n",
        "        self.embedding = nn.Linear(input_dim, hidden_dim).to(self.device)\n",
        "        nn.init.xavier_uniform_(self.embedding.weight)  # Weight initialization\n",
        "\n",
        "\n",
        "\n",
        "        # Add 1D convolutional layers\n",
        "        self.conv1 = nn.Conv1d(in_channels=hidden_dim, out_channels=hidden_dim, kernel_size=3, padding=1).to(self.device)\n",
        "        self.conv2 = nn.Conv1d(in_channels=hidden_dim, out_channels=hidden_dim, kernel_size=3, padding=1).to(self.device)\n",
        "\n",
        "\n",
        "        self.batch_norm1 = nn.BatchNorm1d(hidden_dim).to(self.device)  # Batch normalization\n",
        "\n",
        "        self.transformer_encoder = TransformerEncoder(\n",
        "            TransformerEncoderLayer(hidden_dim, num_heads, batch_first=True).to(self.device),\n",
        "            num_layers\n",
        "        )\n",
        "        self.layer_norm = nn.LayerNorm(hidden_dim).to(self.device)  # Layer normalization\n",
        "\n",
        "        self.fc = nn.Linear(hidden_dim, 1).to(self.device)\n",
        "        self.do = nn.Dropout(p=dropout_rate).to(self.device)\n",
        "\n",
        "    def forward(self, x):\n",
        "        x = x.to(self.device)\n",
        "        x = self.embedding(x)\n",
        "\n",
        "        x = x.transpose(1,2)\n",
        "        x = self.conv1(x)\n",
        "        x = F.leaky_relu(x)  # Activation\n",
        "        x = self.batch_norm1(x)  # Apply BatchNorm\n",
        "\n",
        "        x = self.conv2(x)\n",
        "        x = F.leaky_relu(x)\n",
        "\n",
        "        x = x.transpose(1,2)\n",
        "\n",
        "        x = self.do(x)\n",
        "        x = self.transformer_encoder(x)\n",
        "        x = self.layer_norm(x)  # Apply LayerNorm\n",
        "\n",
        "        # x = torch.mean(x, dim=1) # Mean pooling\n",
        "        # Replacing mean pooling with adaptive max pooling\n",
        "        x = x.transpose(1, 2)  # Adjust the dimensions for adaptive pooling [N, C, L]\n",
        "        x = F.adaptive_max_pool1d(x, 1).view(x.size(0), -1)  # Apply adaptive max pooling and flatten\n",
        "\n",
        "        x = self.do(x)\n",
        "        x = self.fc(x)\n",
        "        x = torch.sigmoid(x)\n",
        "        return x"
      ],
      "metadata": {
        "id": "wNlHIFNrZ8Xv"
      },
      "execution_count": null,
      "outputs": []
    },
    {
      "cell_type": "markdown",
      "source": [
        "# Define dataloader, generator and discriminator"
      ],
      "metadata": {
        "id": "ZPscK374MJAI"
      }
    },
    {
      "cell_type": "code",
      "source": [
        "batch_size = 32\n",
        "data_loader = DataLoader(train_dataset, batch_size=batch_size, shuffle=True)"
      ],
      "metadata": {
        "id": "Ijq8_1MQcWd8"
      },
      "execution_count": null,
      "outputs": []
    },
    {
      "cell_type": "code",
      "source": [
        "generator = Generator(train_data.shape[-1], 1, 256, 6, 8, device=device)\n",
        "# generator = ModifiedGenerator(train_data.shape[-1], 1, 256, 6, 8, device=device)\n",
        "\n",
        "discriminator = Discriminator(train_data.shape[-1], 256, 6, 8, device=device)\n",
        "\n"
      ],
      "metadata": {
        "id": "ANu2dESLcbo7"
      },
      "execution_count": null,
      "outputs": []
    },
    {
      "cell_type": "markdown",
      "source": [
        "# Loss functions"
      ],
      "metadata": {
        "id": "6h8ZgEvhBUOf"
      }
    },
    {
      "cell_type": "code",
      "source": [
        "# Binary Cross Entropy\n",
        "criterion = nn.BCELoss()\n"
      ],
      "metadata": {
        "id": "8C-o_Cqtdlqd"
      },
      "execution_count": null,
      "outputs": []
    },
    {
      "cell_type": "markdown",
      "source": [
        "# Start training"
      ],
      "metadata": {
        "id": "7TLqdGAFBeaP"
      }
    },
    {
      "cell_type": "code",
      "source": [
        "generator_optimizer = optim.Adam(generator.parameters(), lr=0.001)\n",
        "discriminator_optimizer = optim.Adam(discriminator.parameters(), lr=0.001)"
      ],
      "metadata": {
        "id": "6zfadGpnB-3M"
      },
      "execution_count": null,
      "outputs": []
    },
    {
      "cell_type": "code",
      "source": [
        "num_epochs = 50\n"
      ],
      "metadata": {
        "id": "sz9TP442doIo"
      },
      "execution_count": null,
      "outputs": []
    },
    {
      "cell_type": "code",
      "source": [
        "generator_losses = []\n",
        "discriminator_losses = []\n",
        "synthetic_data = []"
      ],
      "metadata": {
        "id": "DwtrvMsCdrXO"
      },
      "execution_count": null,
      "outputs": []
    },
    {
      "cell_type": "code",
      "source": [
        "def train_discriminator(discriminator, real_data, fake_data, criterion, optimizer, device):\n",
        "    optimizer.zero_grad()\n",
        "    real_labels = torch.ones(real_data.size(0), 1, device=device)\n",
        "    fake_labels = torch.zeros(fake_data.size(0), 1, device=device)\n",
        "\n",
        "\n",
        "    # real_loss = compute_loss(discriminator(real_data), 1)\n",
        "    # fake_loss = compute_loss(discriminator(fake_data.detach()), 0)\n",
        "\n",
        "    real_loss = criterion(discriminator(real_data), real_labels)\n",
        "    fake_loss = criterion(discriminator(fake_data.detach()), fake_labels)\n",
        "\n",
        "    loss = real_loss + fake_loss\n",
        "    # gradient_penalty = compute_gradient_penalty(discriminator, real_data, fake_data.detach())\n",
        "\n",
        "    # lambda_gp = 10\n",
        "    # loss = discriminator(fake_data.detach()) - discriminator(real_data) + lambda_gp * gradient_penalty\n",
        "    loss.backward()\n",
        "    optimizer.step()\n",
        "    return loss.item()"
      ],
      "metadata": {
        "id": "J9ZSDyW0jd15"
      },
      "execution_count": null,
      "outputs": []
    },
    {
      "cell_type": "code",
      "source": [
        "def train_generator(generator, discriminator, fake_data, criterion, optimizer, device):\n",
        "    optimizer.zero_grad()\n",
        "    labels = torch.ones(fake_data.size(0), 1, device=device)  # Generator tries to generate real-looking data\n",
        "\n",
        "    # loss = compute_loss(discriminator(fake_data), 1)\n",
        "\n",
        "    loss = criterion(discriminator(fake_data), labels)\n",
        "    # loss =  - discriminator(fake_data)\n",
        "    loss.backward()\n",
        "    optimizer.step()\n",
        "    return loss.item()"
      ],
      "metadata": {
        "id": "klBxYSyVjg-S"
      },
      "execution_count": null,
      "outputs": []
    },
    {
      "cell_type": "code",
      "source": [
        "def generate_noise(batch_size, latent_dim, device):\n",
        "    \"\"\"Generates and returns noise suitable for generator input.\"\"\"\n",
        "    noise = torch.randn(batch_size, latent_dim, 1, device=device)\n",
        "    # gaussian_noise = torch.randn(batch_size, latent_dim // 2, 1, device=device)\n",
        "    # uniform_noise = torch.rand(batch_size, latent_dim // 2, 1, device=device) * 2 - 1  # Uniform noise in [-1, 1]\n",
        "\n",
        "    # noise = torch.rand(batch_size, latent_dim, 1, device=device)\n",
        "    # Add any specific noise manipulations here if needed\n",
        "    return noise\n",
        "\n",
        "\n",
        "def prepare_real_data_diffs(real_data):\n",
        "    \"\"\"Prepares real data differences.\"\"\"\n",
        "    initial_value = real_data[:, 0, :].unsqueeze(1)\n",
        "    successive_diffs = real_data[:, 1:, :] - real_data[:, :-1, :]\n",
        "    real_data_diffs = torch.cat((initial_value, successive_diffs), dim=1)\n",
        "    return real_data_diffs\n",
        "\n",
        "\n",
        "for epoch in range(num_epochs):\n",
        "    for i, batch in enumerate(data_loader):\n",
        "        real_data = batch[0].to(device).float()\n",
        "        current_batch_size = real_data.size(0)  # Dynamic batch size for the current iteration\n",
        "\n",
        "        real_data_diffs = prepare_real_data_diffs(real_data)\n",
        "\n",
        "\n",
        "        # Generate noise and fake data\n",
        "\n",
        "        noise = generate_noise(current_batch_size, real_data.size(1), device=device)\n",
        "        # noise[:,0,:] *= 0\n",
        "        # noise = noise.cumsum(1)\n",
        "        # transformed_real_data = real_data[0][:, 1:].unsqueeze(0).repeat(current_batch_size, 1, 1).to(device)\n",
        "        # noise = torch.cat((noise, transformed_real_data), 2)\n",
        "\n",
        "\n",
        "        fake_data_diffs = generator(noise)\n",
        "        # fake_data_diffs = torch.cat((fake_data_diffs, transformed_real_data), 2) #add cyclical encoding to generated time series\n",
        "\n",
        "        # Train discriminator\n",
        "        d_loss = train_discriminator(discriminator, real_data_diffs, fake_data_diffs, criterion, discriminator_optimizer, device)\n",
        "\n",
        "\n",
        "        # Train generator\n",
        "        g_loss = train_generator(generator, discriminator, fake_data_diffs, criterion, generator_optimizer, device)\n",
        "\n",
        "        # Monitor progress\n",
        "        if i % 10 == 0:  # Adjust based on your preference\n",
        "            print(f\"Epoch [{epoch+1}/{num_epochs}], Batch [{i+1}/{len(data_loader)}], Generator Loss: {g_loss:.4f}, Discriminator Loss: {d_loss:.4f}\")\n",
        "        generator_losses.append(g_loss)\n",
        "        discriminator_losses.append(d_loss)\n",
        "        synthetic_data.append(fake_data_diffs)\n"
      ],
      "metadata": {
        "colab": {
          "base_uri": "https://localhost:8080/"
        },
        "id": "cb4KS8vrjkAY",
        "outputId": "b4acc638-af43-4e46-dd9f-85f2c845ac4c"
      },
      "execution_count": null,
      "outputs": [
        {
          "output_type": "stream",
          "name": "stdout",
          "text": [
            "Epoch [1/50], Batch [1/4], Generator Loss: 5.0728, Discriminator Loss: 1.2319\n",
            "Epoch [2/50], Batch [1/4], Generator Loss: 0.8833, Discriminator Loss: 1.6553\n",
            "Epoch [3/50], Batch [1/4], Generator Loss: 0.8236, Discriminator Loss: 1.4558\n",
            "Epoch [4/50], Batch [1/4], Generator Loss: 0.5387, Discriminator Loss: 1.3872\n",
            "Epoch [5/50], Batch [1/4], Generator Loss: 0.6070, Discriminator Loss: 1.4208\n",
            "Epoch [6/50], Batch [1/4], Generator Loss: 0.7107, Discriminator Loss: 1.4084\n",
            "Epoch [7/50], Batch [1/4], Generator Loss: 0.7850, Discriminator Loss: 1.4412\n",
            "Epoch [8/50], Batch [1/4], Generator Loss: 0.7620, Discriminator Loss: 1.4002\n",
            "Epoch [9/50], Batch [1/4], Generator Loss: 0.7072, Discriminator Loss: 1.3891\n",
            "Epoch [10/50], Batch [1/4], Generator Loss: 0.6473, Discriminator Loss: 1.3780\n",
            "Epoch [11/50], Batch [1/4], Generator Loss: 0.6730, Discriminator Loss: 1.3780\n",
            "Epoch [12/50], Batch [1/4], Generator Loss: 0.7182, Discriminator Loss: 1.3895\n",
            "Epoch [13/50], Batch [1/4], Generator Loss: 0.7194, Discriminator Loss: 1.4117\n",
            "Epoch [14/50], Batch [1/4], Generator Loss: 0.7193, Discriminator Loss: 1.3912\n",
            "Epoch [15/50], Batch [1/4], Generator Loss: 0.6929, Discriminator Loss: 1.4127\n",
            "Epoch [16/50], Batch [1/4], Generator Loss: 0.6781, Discriminator Loss: 1.4103\n",
            "Epoch [17/50], Batch [1/4], Generator Loss: 0.6753, Discriminator Loss: 1.3944\n",
            "Epoch [18/50], Batch [1/4], Generator Loss: 0.6876, Discriminator Loss: 1.3670\n",
            "Epoch [19/50], Batch [1/4], Generator Loss: 0.7376, Discriminator Loss: 1.3929\n",
            "Epoch [20/50], Batch [1/4], Generator Loss: 0.7208, Discriminator Loss: 1.3870\n",
            "Epoch [21/50], Batch [1/4], Generator Loss: 0.6863, Discriminator Loss: 1.4130\n",
            "Epoch [22/50], Batch [1/4], Generator Loss: 0.6825, Discriminator Loss: 1.3854\n",
            "Epoch [23/50], Batch [1/4], Generator Loss: 0.6968, Discriminator Loss: 1.3979\n",
            "Epoch [24/50], Batch [1/4], Generator Loss: 0.7374, Discriminator Loss: 1.3913\n",
            "Epoch [25/50], Batch [1/4], Generator Loss: 0.7167, Discriminator Loss: 1.4309\n",
            "Epoch [26/50], Batch [1/4], Generator Loss: 0.7083, Discriminator Loss: 1.3806\n",
            "Epoch [27/50], Batch [1/4], Generator Loss: 0.7365, Discriminator Loss: 1.4095\n",
            "Epoch [28/50], Batch [1/4], Generator Loss: 0.6627, Discriminator Loss: 1.3322\n",
            "Epoch [29/50], Batch [1/4], Generator Loss: 0.6613, Discriminator Loss: 1.4160\n",
            "Epoch [30/50], Batch [1/4], Generator Loss: 0.6812, Discriminator Loss: 1.3819\n",
            "Epoch [31/50], Batch [1/4], Generator Loss: 0.6993, Discriminator Loss: 1.3876\n",
            "Epoch [32/50], Batch [1/4], Generator Loss: 0.7055, Discriminator Loss: 1.4020\n",
            "Epoch [33/50], Batch [1/4], Generator Loss: 0.6891, Discriminator Loss: 1.4130\n",
            "Epoch [34/50], Batch [1/4], Generator Loss: 0.6782, Discriminator Loss: 1.4107\n",
            "Epoch [35/50], Batch [1/4], Generator Loss: 0.6929, Discriminator Loss: 1.3947\n",
            "Epoch [36/50], Batch [1/4], Generator Loss: 0.7238, Discriminator Loss: 1.3945\n",
            "Epoch [37/50], Batch [1/4], Generator Loss: 0.7101, Discriminator Loss: 1.4020\n",
            "Epoch [38/50], Batch [1/4], Generator Loss: 0.7265, Discriminator Loss: 1.4075\n",
            "Epoch [39/50], Batch [1/4], Generator Loss: 0.6904, Discriminator Loss: 1.3716\n",
            "Epoch [40/50], Batch [1/4], Generator Loss: 0.6814, Discriminator Loss: 1.4199\n",
            "Epoch [41/50], Batch [1/4], Generator Loss: 0.6785, Discriminator Loss: 1.3969\n",
            "Epoch [42/50], Batch [1/4], Generator Loss: 0.6751, Discriminator Loss: 1.3999\n",
            "Epoch [43/50], Batch [1/4], Generator Loss: 0.6988, Discriminator Loss: 1.3859\n",
            "Epoch [44/50], Batch [1/4], Generator Loss: 0.6905, Discriminator Loss: 1.3821\n",
            "Epoch [45/50], Batch [1/4], Generator Loss: 0.6752, Discriminator Loss: 1.3771\n",
            "Epoch [46/50], Batch [1/4], Generator Loss: 0.7093, Discriminator Loss: 1.3877\n",
            "Epoch [47/50], Batch [1/4], Generator Loss: 0.6980, Discriminator Loss: 1.3751\n",
            "Epoch [48/50], Batch [1/4], Generator Loss: 0.6630, Discriminator Loss: 1.3887\n",
            "Epoch [49/50], Batch [1/4], Generator Loss: 0.6788, Discriminator Loss: 1.3862\n",
            "Epoch [50/50], Batch [1/4], Generator Loss: 0.7037, Discriminator Loss: 1.3908\n"
          ]
        }
      ]
    },
    {
      "cell_type": "code",
      "source": [
        "fig, axs = plt.subplots(3, sharex=True, sharey=False)\n",
        "fig.suptitle('Price series.')\n",
        "# axs[0].plot(synthetic_data[0][0][:, 0].detach().cpu().numpy(), color='r', label='First synthetic')\n",
        "# axs[1].plot(synthetic_data[-1][0][:, 0].detach().cpu().numpy(), color='g', label='Last synthetic')\n",
        "axs[0].plot(torch.cumsum(synthetic_data[0][0][:, 0], dim=0).detach().cpu().numpy(), color='r', label='First synthetic')\n",
        "axs[1].plot(torch.cumsum(synthetic_data[-1][0][:, 0], dim=0).detach().cpu().numpy(), color='g', label='Last synthetic')\n",
        "axs[2].plot(train_data[0][:, 0], label='Real')\n",
        "fig.legend()\n",
        "\n",
        "for ax in axs:\n",
        "    ax.label_outer()"
      ],
      "metadata": {
        "colab": {
          "base_uri": "https://localhost:8080/",
          "height": 480
        },
        "id": "HR_y7E2cjmLg",
        "outputId": "3ffd0d12-2ed8-43d6-82f0-5f4686e1dcaf"
      },
      "execution_count": null,
      "outputs": [
        {
          "output_type": "display_data",
          "data": {
            "text/plain": [
              "<Figure size 640x480 with 3 Axes>"
            ],
            "image/png": "[encoded data removed]"
          },
          "metadata": {}
        }
      ]
    },
    {
      "cell_type": "code",
      "source": [
        "plt.plot(generator_losses, label='Generator')\n",
        "plt.plot(discriminator_losses, label='Discriminator')\n",
        "plt.xlabel('Epochs')\n",
        "plt.ylabel('Loss')\n",
        "plt.legend()\n",
        "plt.show()"
      ],
      "metadata": {
        "colab": {
          "base_uri": "https://localhost:8080/",
          "height": 449
        },
        "id": "8cqm2Z7chHmM",
        "outputId": "8366cb4c-ea09-4b49-df5d-344ede012b2e"
      },
      "execution_count": null,
      "outputs": [
        {
          "output_type": "display_data",
          "data": {
            "text/plain": [
              "<Figure size 640x480 with 1 Axes>"
            ],
            "image/png": "[encoded data removed]"
          },
          "metadata": {}
        }
      ]
    }
  ]
}