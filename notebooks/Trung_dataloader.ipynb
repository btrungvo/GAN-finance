{
 "cells": [
  {
   "cell_type": "code",
   "execution_count": 1,
   "id": "3cfb8c2a",
   "metadata": {},
   "outputs": [],
   "source": [
    "# Run this if yfinance is not installed\n",
    "# !pip install yfinance"
   ]
  },
  {
   "cell_type": "code",
   "execution_count": 2,
   "id": "4ac90899",
   "metadata": {},
   "outputs": [],
   "source": [
    "import yfinance as yf\n",
    "import numpy as np\n",
    "import pandas as pd\n",
    "import datetime\n",
    "import torch\n",
    "from torch.utils.data import Dataset, DataLoader"
   ]
  },
  {
   "cell_type": "code",
   "execution_count": 3,
   "id": "6399ca35",
   "metadata": {},
   "outputs": [],
   "source": [
    "def download(ticker = \"^GSPC\", start_date = None, end_date = None, price = [\"Adj Close\", \"Close\", \"High\", \"Low\", \"Open\", \"Volume\"]):\n",
    "    df = yf.download(ticker, start = start_date, end = end_date)\n",
    "    return df[price]"
   ]
  },
  {
   "cell_type": "code",
   "execution_count": 4,
   "id": "672a364e",
   "metadata": {},
   "outputs": [],
   "source": [
    "class YahooDataset(Dataset):\n",
    "    def __init__(self, data):\n",
    "        self.data = torch.tensor(data)\n",
    "    \n",
    "    def __len__(self):\n",
    "        return len(self.data)\n",
    "\n",
    "    def __getitem__(self, idx):\n",
    "        return self.data[idx]"
   ]
  },
  {
   "cell_type": "markdown",
   "id": "bd57acd2",
   "metadata": {},
   "source": [
    "# Config"
   ]
  },
  {
   "cell_type": "code",
   "execution_count": 5,
   "id": "52bfa42b",
   "metadata": {},
   "outputs": [],
   "source": [
    "# ticker = \"AAPL, ^GSPC, AMZN\"\n",
    "start_date = \"2023-02-01\"\n",
    "end_date = \"2024-02-01\"\n",
    "price = 'Close'\n",
    "\n",
    "batch_size = 64"
   ]
  },
  {
   "cell_type": "markdown",
   "id": "ecd6680e",
   "metadata": {},
   "source": [
    "# Data preparation: generating training and test datasets"
   ]
  },
  {
   "cell_type": "code",
   "execution_count": 15,
   "id": "d2688945",
   "metadata": {},
   "outputs": [
    {
     "name": "stderr",
     "output_type": "stream",
     "text": [
      "\r",
      "[*********************100%%**********************]  1 of 1 completed"
     ]
    },
    {
     "name": "stdout",
     "output_type": "stream",
     "text": [
      "(200,) torch.Size([200])\n"
     ]
    },
    {
     "name": "stderr",
     "output_type": "stream",
     "text": [
      "\n"
     ]
    }
   ],
   "source": [
    "df = download(ticker = \"^GSPC\", start_date = start_date, end_date = end_date, price = price)\n",
    "date = df.index.strftime(\"%Y/%m/%d\")\n",
    "\n",
    "split_index = int(len(date)*0.8)\n",
    "train = df[:split_index]\n",
    "test = df[split_index:]\n",
    "\n",
    "train = YahooDataset(train)\n",
    "test = YahooDataset(test) "
   ]
  },
  {
   "cell_type": "code",
   "execution_count": 21,
   "id": "662b1731",
   "metadata": {},
   "outputs": [
    {
     "name": "stdout",
     "output_type": "stream",
     "text": [
      "tensor([4119.2100, 4179.7598, 4136.4800, 4111.0801, 4164.0000, 4117.8599,\n",
      "        4081.5000, 4090.4600, 4137.2900, 4136.1299, 4147.6001, 4090.4099,\n",
      "        4079.0901, 3997.3401, 3991.0500, 4012.3201, 3970.0400, 3982.2400,\n",
      "        3970.1499, 3951.3899, 3981.3501, 4045.6399, 4048.4199, 3986.3701,\n",
      "        3992.0100, 3918.3201, 3861.5901, 3855.7600, 3919.2900, 3891.9299,\n",
      "        3960.2800, 3916.6399, 3951.5701, 4002.8701, 3936.9700, 3948.7200,\n",
      "        3970.9900, 3977.5300, 3971.2700, 4027.8101, 4050.8301, 4109.3101,\n",
      "        4124.5098, 4100.6001, 4090.3799, 4105.0200, 4109.1099, 4108.9399,\n",
      "        4091.9500, 4146.2202, 4137.6401, 4151.3198, 4154.8701, 4154.5200,\n",
      "        4129.7900, 4133.5200, 4137.0400, 4071.6299, 4055.9900, 4135.3501,\n",
      "        4169.4800, 4167.8701, 4119.5801, 4090.7500], dtype=torch.float64)\n",
      "tensor([4061.2200, 4136.2500, 4138.1201, 4119.1699, 4137.6401, 4130.6201,\n",
      "        4124.0801, 4136.2798, 4109.8999, 4158.7700, 4198.0498, 4191.9800,\n",
      "        4192.6299, 4145.5801, 4115.2402, 4151.2798, 4205.4502, 4205.5200,\n",
      "        4179.8301, 4221.0200, 4282.3701, 4273.7900, 4283.8501, 4267.5200,\n",
      "        4293.9302, 4298.8599, 4338.9302, 4369.0098, 4372.5898, 4425.8398,\n",
      "        4409.5898, 4388.7100, 4365.6899, 4381.8901, 4348.3301, 4328.8198,\n",
      "        4378.4102, 4376.8599, 4396.4399, 4450.3799, 4455.5898, 4446.8198,\n",
      "        4411.5898, 4398.9502, 4409.5298, 4439.2598, 4472.1602, 4510.0400,\n",
      "        4505.4199, 4522.7900, 4554.9800, 4565.7202, 4534.8701, 4536.3398,\n",
      "        4554.6401, 4567.4600, 4566.7500, 4537.4102, 4582.2300, 4588.9600,\n",
      "        4576.7300, 4513.3901, 4501.8901, 4478.0298], dtype=torch.float64)\n",
      "tensor([4518.4399, 4499.3799, 4467.7100, 4468.8301, 4464.0498, 4489.7202,\n",
      "        4437.8599, 4404.3301, 4370.3599, 4369.7100, 4399.7700, 4387.5498,\n",
      "        4436.0098, 4376.3101, 4405.7100, 4433.3101, 4497.6299, 4514.8701,\n",
      "        4507.6602, 4515.7700, 4496.8301, 4465.4800, 4451.1401, 4457.4902,\n",
      "        4487.4600, 4461.8999, 4467.4399, 4505.1001, 4450.3198, 4453.5298,\n",
      "        4443.9502, 4402.2002, 4330.0000, 4320.0601, 4337.4399, 4273.5298,\n",
      "        4274.5098, 4299.7002, 4288.0498, 4288.3901, 4229.4502, 4263.7500,\n",
      "        4258.1899, 4308.5000, 4335.6602, 4358.2402, 4376.9502, 4349.6099,\n",
      "        4327.7798, 4373.6299, 4373.2002, 4314.6001, 4278.0000, 4224.1602,\n",
      "        4217.0400, 4247.6802, 4186.7700, 4137.2300, 4117.3701, 4166.8198,\n",
      "        4193.7998, 4237.8599, 4317.7798, 4358.3398], dtype=torch.float64)\n",
      "tensor([4365.9800, 4378.3799, 4382.7798, 4347.3501, 4415.2402, 4411.5498,\n",
      "        4495.7002, 4502.8799], dtype=torch.float64)\n"
     ]
    }
   ],
   "source": [
    "train_loader = DataLoader(train, batch_size = batch_size, shuffle = True)\n",
    "test_loader = DataLoader(test, batch_size = batch_size, shuffle = False)\n",
    "for i, batch in enumerate(dataloader):\n",
    "    print(batch)"
   ]
  }
 ],
 "metadata": {
  "kernelspec": {
   "display_name": "Python 3 (ipykernel)",
   "language": "python",
   "name": "python3"
  },
  "language_info": {
   "codemirror_mode": {
    "name": "ipython",
    "version": 3
   },
   "file_extension": ".py",
   "mimetype": "text/x-python",
   "name": "python",
   "nbconvert_exporter": "python",
   "pygments_lexer": "ipython3",
   "version": "3.11.5"
  }
 },
 "nbformat": 4,
 "nbformat_minor": 5
}
